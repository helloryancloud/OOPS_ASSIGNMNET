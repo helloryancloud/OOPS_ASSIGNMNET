{
  "nbformat": 4,
  "nbformat_minor": 0,
  "metadata": {
    "colab": {
      "provenance": []
    },
    "kernelspec": {
      "name": "python3",
      "display_name": "Python 3"
    },
    "language_info": {
      "name": "python"
    }
  },
  "cells": [
    {
      "cell_type": "markdown",
      "source": [
        "OOPS Practical Questions"
      ],
      "metadata": {
        "id": "pETVcnR95B3y"
      }
    },
    {
      "cell_type": "code",
      "execution_count": null,
      "metadata": {
        "colab": {
          "base_uri": "https://localhost:8080/"
        },
        "id": "NH_rozHkhjS3",
        "outputId": "c5a2fcdc-7924-4cc3-96a7-786b7f3d5b6a"
      },
      "outputs": [
        {
          "output_type": "stream",
          "name": "stdout",
          "text": [
            "speaking\n",
            "barking\n"
          ]
        }
      ],
      "source": [
        "#Question1\n",
        "# Create a parent class Animal with a method speak() that prints a generic message. Create a child class Dog\n",
        "#that overrides the speak() method to print \"Bark!\".\n",
        "class animal:\n",
        "  def speak(self):\n",
        "    print(\"speaking\")\n",
        "class dog(animal):\n",
        "  def bark(self):\n",
        "    print(\"barking\")\n",
        "# a.bark() # This line caused the error\n",
        "\n",
        "# To call the bark method, create an instance of the dog class\n",
        "d = dog()\n",
        "d.speak() # dog inherits speak from animal\n",
        "d.bark()"
      ]
    },
    {
      "cell_type": "code",
      "source": [
        "#Question2\n",
        "# Write a program to create an abstract class Shape with a method area(). Derive classes Circle and Rectangle\n",
        "#from it and implement the area() method in both.\n",
        "from abc import ABC, abstractmethod\n",
        "class shape(ABC):\n",
        "  @abstractmethod\n",
        "  def area(self):\n",
        "    pass\n",
        "class circle(shape):\n",
        "  def area(self,r):\n",
        "    area=3.14*r*r\n",
        "    print(\"area of circle is\",area)\n",
        "class rectangle(shape):\n",
        "  def area(self, length, width):\n",
        "    area=length*width\n",
        "    print(\"area of rectangle is\",area)\n",
        "c=circle()\n",
        "c.area(5)\n",
        "r=rectangle()\n",
        "r.area(5, 6)"
      ],
      "metadata": {
        "colab": {
          "base_uri": "https://localhost:8080/"
        },
        "id": "O5nNxjtSxKUx",
        "outputId": "bb9e2c60-8f9d-45bc-d081-e743e5a02d52"
      },
      "execution_count": 3,
      "outputs": [
        {
          "output_type": "stream",
          "name": "stdout",
          "text": [
            "area of circle is 78.5\n",
            "area of rectangle is 30\n"
          ]
        }
      ]
    },
    {
      "cell_type": "code",
      "source": [
        "#Question3\n",
        "# Implement a multi-level inheritance scenario where a class Vehicle has an attribute type. Derive a class Car\n",
        "#and further derive a class ElectricCar that adds a battery attribute.\n",
        "class vehicle:\n",
        "  def power(self):\n",
        "    print(\"high power\")\n",
        "class car(vehicle):\n",
        "  def drive(self):\n",
        "    print(\"i drive a car\")\n",
        "class eclectric_car(car):\n",
        "  def battery(self):\n",
        "    print(\"high power battery\")\n",
        "ec=eclectric_car()\n",
        "ec.power()\n",
        "ec.drive()\n",
        "ec.battery()"
      ],
      "metadata": {
        "colab": {
          "base_uri": "https://localhost:8080/"
        },
        "id": "8j_3zWPViaRP",
        "outputId": "e4fc9897-39a9-4687-f979-15e60eefaa07"
      },
      "execution_count": null,
      "outputs": [
        {
          "output_type": "stream",
          "name": "stdout",
          "text": [
            "high power\n",
            "i drive a car\n",
            "high power battery\n"
          ]
        }
      ]
    },
    {
      "cell_type": "code",
      "source": [
        "#Question4\n",
        "#Demonstrate polymorphism by creating a base class Bird with a method fly(). Create two derived classes\n",
        "#Sparrow and Penguin that override the fly() method.\n",
        "class bird:\n",
        "  def fly(self):\n",
        "    print(\"bird is flying\")\n",
        "class sparrow(bird):\n",
        "  def fly(self):\n",
        "    print(\"sparrow is flying\")\n",
        "class pengiun(bird):\n",
        "  def fly(self):\n",
        "    print(\"pengiun is flying\")\n",
        "bird=[sparrow(),pengiun()]\n",
        "for i in bird:\n",
        "  i.fly()\n"
      ],
      "metadata": {
        "id": "N2sgwpzIk1tN",
        "colab": {
          "base_uri": "https://localhost:8080/"
        },
        "outputId": "34c55818-ab87-4c4d-872b-fe40c31f1b80"
      },
      "execution_count": 4,
      "outputs": [
        {
          "output_type": "stream",
          "name": "stdout",
          "text": [
            "sparrow is flying\n",
            "pengiun is flying\n"
          ]
        }
      ]
    },
    {
      "cell_type": "code",
      "source": [
        "#Question5\n",
        "#Write a program to demonstrate encapsulation by creating a class BankAccount with private attributes\n",
        "#balance and methods to deposit, withdraw, and check balance.\n",
        "class bankaccount:\n",
        "  def __init__(self,balance):\n",
        "    self.__balance=balance\n",
        "  def deposit(self,amount):\n",
        "    self.__balance+=amount\n",
        "  def withdraw(self,amount):\n",
        "    if amount<=self.__balance:\n",
        "      self.__balance-=amount\n",
        "    else:\n",
        "      print(\"insufficient balance\")\n",
        "  def check_balance(self):\n",
        "    return self.__balance\n",
        "\n",
        "b=bankaccount(1000)\n",
        "print(b.check_balance())\n",
        "b.deposit(500)\n",
        "print(b.check_balance())\n",
        "b.withdraw(1500)\n",
        "print(b.check_balance())"
      ],
      "metadata": {
        "colab": {
          "base_uri": "https://localhost:8080/"
        },
        "id": "qs7aaMikSpf_",
        "outputId": "f4aa9d88-2fc1-4350-cbd0-66e010450b14"
      },
      "execution_count": 7,
      "outputs": [
        {
          "output_type": "stream",
          "name": "stdout",
          "text": [
            "1000\n",
            "1500\n",
            "0\n"
          ]
        }
      ]
    },
    {
      "cell_type": "code",
      "source": [
        "#Question6\n",
        "#Demonstrate runtime polymorphism using a method play() in a base class Instrument. Derive classes Guitar\n",
        "#and Piano that implement their own version of play().\n",
        "class instrument:\n",
        "  def play(self):\n",
        "    print(\"playin an instrument\")\n",
        "class guitar(instrument):\n",
        "  def play(self):\n",
        "    print(\"playing a guitar\")\n",
        "class piano(instrument):\n",
        "  def play(self):\n",
        "    print(\"playing a piano\")\n",
        "\n",
        "#function that uses polymorphism\n",
        "def start_playing(instrument):\n",
        "   instrument.play()\n",
        "\n",
        "#test runtime polymorphism\n",
        "i1=guitar()\n",
        "i2=piano()\n",
        "\n",
        "start_playing(i1)\n",
        "start_playing(i2)"
      ],
      "metadata": {
        "colab": {
          "base_uri": "https://localhost:8080/"
        },
        "id": "quM4XsZZTyCS",
        "outputId": "50577aac-1956-46e0-d81f-a0502126721a"
      },
      "execution_count": 9,
      "outputs": [
        {
          "output_type": "stream",
          "name": "stdout",
          "text": [
            "playing a guitar\n",
            "playing a piano\n"
          ]
        }
      ]
    },
    {
      "cell_type": "code",
      "source": [
        "#Question7\n",
        "#Create a class MathOperations with a class method add_numbers() to add two numbers and a static\n",
        "#method subtract_numbers() to subtract two numbers.\n",
        "class mathoperation:\n",
        "  def add_numbers(self,a,b):\n",
        "    return a+b\n",
        "  @staticmethod\n",
        "  def subtract_numbers(a,b):\n",
        "    if a>=b:\n",
        "      print(\"can be subtracted\")\n",
        "      return a-b\n",
        "    else:\n",
        "      print(\"cannot be subtracted\")\n",
        "      return None\n",
        "m=mathoperation()\n",
        "print(m.add_numbers(4,4))\n",
        "print(m.subtract_numbers(2,4))"
      ],
      "metadata": {
        "colab": {
          "base_uri": "https://localhost:8080/"
        },
        "id": "psHrO4m2Wnl9",
        "outputId": "5c54f610-bf3f-4fc9-f87f-9dd08f88a4ea"
      },
      "execution_count": 15,
      "outputs": [
        {
          "output_type": "stream",
          "name": "stdout",
          "text": [
            "8\n",
            "cannot be subtracted\n",
            "None\n"
          ]
        }
      ]
    },
    {
      "cell_type": "code",
      "source": [
        "#Question8\n",
        "#Implement a class Person with a class method to count the total number of persons created.\n",
        "class person:\n",
        "  count=0\n",
        "  def __init__(self,name):\n",
        "    self.name=name\n",
        "    person.count+=1\n",
        "  @classmethod\n",
        "  def get_person_count(cls):\n",
        "    return cls.count\n",
        "p1=person(\"krishna\")\n",
        "p2=person(\"Preetishah\")\n",
        "p3=person(\"Aabha\")\n",
        "\n",
        "print(\"total persons created:\",person.get_person_count())"
      ],
      "metadata": {
        "colab": {
          "base_uri": "https://localhost:8080/"
        },
        "id": "SeCbMT6oYfjC",
        "outputId": "b7b2d93b-57b8-4acb-dcc1-b6357dfcc517"
      },
      "execution_count": 17,
      "outputs": [
        {
          "output_type": "stream",
          "name": "stdout",
          "text": [
            "total persons created: 3\n"
          ]
        }
      ]
    },
    {
      "cell_type": "code",
      "source": [
        "#Question9\n",
        "#Write a class Fraction with attributes numerator and denominator. Override the str method to display the\n",
        "#fraction as \"numerator/denominator\".\n",
        "class fraction:\n",
        "  def __init__(self,numerator,denominator):\n",
        "    self.numerator=numerator\n",
        "    self.denominator=denominator\n",
        "  def num(self):\n",
        "    return self.numerator\n",
        "  def num2(self):\n",
        "    return self.denominator\n",
        "  def __str__(self):\n",
        "    return f\"{self.numerator}/{self.denominator}\"\n",
        "f=fraction(4,5)\n",
        "f.num()\n",
        "f.num2()\n",
        "f.__str__()"
      ],
      "metadata": {
        "colab": {
          "base_uri": "https://localhost:8080/",
          "height": 35
        },
        "id": "_w0j8ND0Z5pm",
        "outputId": "bac26d21-2cac-4c87-abae-c117af069eba"
      },
      "execution_count": 3,
      "outputs": [
        {
          "output_type": "execute_result",
          "data": {
            "text/plain": [
              "'4/5'"
            ],
            "application/vnd.google.colaboratory.intrinsic+json": {
              "type": "string"
            }
          },
          "metadata": {},
          "execution_count": 3
        }
      ]
    },
    {
      "cell_type": "code",
      "source": [
        "#Question10\n",
        "#Demonstrate operator overloading by creating a class Vector and overriding the add method to add two\n",
        "#vectors.\n",
        "class vector:\n",
        "  def __init__(self,x,y):\n",
        "    self.x=x\n",
        "    self.y=y\n",
        "  def __add__(self,other):\n",
        "    return vector(self.x+other.x,self.y+other.y)\n",
        "  def __str__(self):\n",
        "    return f\"({self.x},{self.y})\"\n",
        "v1=vector(1,2)\n",
        "v2=vector(3,4)\n",
        "v3=v1+v2\n",
        "print(v3)\n",
        ""
      ],
      "metadata": {
        "colab": {
          "base_uri": "https://localhost:8080/"
        },
        "id": "fuJSqtQWhufU",
        "outputId": "5524aec7-e37a-4fc6-db8e-0f1606f7891a"
      },
      "execution_count": 5,
      "outputs": [
        {
          "output_type": "stream",
          "name": "stdout",
          "text": [
            "(4,6)\n"
          ]
        }
      ]
    },
    {
      "cell_type": "code",
      "source": [
        "#Question11\n",
        "#Create a class Person with attributes name and age. Add a method greet() that prints \"Hello, my name is\n",
        "#{name} and I am {age} years old.\"\n",
        "class person:\n",
        "  def __init__(self,name,age):\n",
        "    self.__name=name\n",
        "    self.__age=age\n",
        "  def greet(self):\n",
        "    return f\"hello my name is:{self.__name} and my age is:{self.__age}\"\n",
        "p=person(\"ryan\",20)\n",
        "p.greet()"
      ],
      "metadata": {
        "colab": {
          "base_uri": "https://localhost:8080/",
          "height": 35
        },
        "id": "je9-eG60kV5Y",
        "outputId": "714cf276-90af-4903-a978-818f095347ab"
      },
      "execution_count": 10,
      "outputs": [
        {
          "output_type": "execute_result",
          "data": {
            "text/plain": [
              "'hello my name is:ryan and my age is:20'"
            ],
            "application/vnd.google.colaboratory.intrinsic+json": {
              "type": "string"
            }
          },
          "metadata": {},
          "execution_count": 10
        }
      ]
    },
    {
      "cell_type": "code",
      "source": [
        "#Question12\n",
        "#Implement a class Student with attributes name and grades. Create a method average_grade() to compute\n",
        "#the average of the grades.\n",
        "class student:\n",
        "  def __init__(self,name,grades):\n",
        "    self.name=name\n",
        "    self.grades=grades\n",
        "  def average_grade(self):\n",
        "    return sum(self.grades)/len(self.grades)\n",
        "s=student(\"ryan\",[10,20,30,40])\n",
        "s.average_grade()"
      ],
      "metadata": {
        "colab": {
          "base_uri": "https://localhost:8080/"
        },
        "id": "iIwCXn7NmCSD",
        "outputId": "1e21ea33-26ef-4122-e734-17a376e9d261"
      },
      "execution_count": 14,
      "outputs": [
        {
          "output_type": "execute_result",
          "data": {
            "text/plain": [
              "25.0"
            ]
          },
          "metadata": {},
          "execution_count": 14
        }
      ]
    },
    {
      "cell_type": "code",
      "source": [
        "#Question13\n",
        "#Create a class Rectangle with methods set_dimensions() to set the dimensions and area() to calculate the\n",
        "#area.\n",
        "class rectangle:\n",
        "  def set_dimensions(self,lenght,width):\n",
        "    self.lenght=lenght\n",
        "    self.width=width\n",
        "  def area(self):\n",
        "    return self.lenght*self.width\n",
        "r=rectangle()\n",
        "r.set_dimensions(5,6)\n",
        "r.area()"
      ],
      "metadata": {
        "colab": {
          "base_uri": "https://localhost:8080/"
        },
        "id": "hNwi3veYmvMa",
        "outputId": "d195b8e0-061c-42d6-9b1f-9dd4e24417a8"
      },
      "execution_count": 2,
      "outputs": [
        {
          "output_type": "execute_result",
          "data": {
            "text/plain": [
              "30"
            ]
          },
          "metadata": {},
          "execution_count": 2
        }
      ]
    },
    {
      "cell_type": "code",
      "source": [
        "#Question13\n",
        "#Create a class Employee with a method calculate_salary() that computes the salary based on hours worked\n",
        "#and hourly rate. Create a derived class Manager that adds a bonus to the salary.\n",
        "class employee:\n",
        "  def __init__(self, hours_worked, hourly_rate):\n",
        "    self.hours_worked=hours_worked\n",
        "    self.hourly_rate=hourly_rate\n",
        "  def calculate_salary(self):\n",
        "    salary=self.hours_worked*self.hourly_rate\n",
        "    return salary\n",
        "class manager(employee):\n",
        "  def __init__(self, hours_worked, hourly_rate,bonus):\n",
        "    super().__init__(hours_worked,hourly_rate)\n",
        "    self.bonus=bonus\n",
        "  def calculate_salary(self):\n",
        "    initial_salary=super().calculate_salary()\n",
        "    total_salary=initial_salary+self.bonus\n",
        "    return total_salary\n",
        "e=employee(40,500)\n",
        "print(f\"salary of employees is {e.calculate_salary()}\")\n",
        "m=manager(40,500,1200)\n",
        "print(f\"salary of manager is {m.calculate_salary()}\")"
      ],
      "metadata": {
        "colab": {
          "base_uri": "https://localhost:8080/"
        },
        "id": "DE8q36q5iRNS",
        "outputId": "0f846dba-92a1-498f-97e1-ee1557618067"
      },
      "execution_count": 4,
      "outputs": [
        {
          "output_type": "stream",
          "name": "stdout",
          "text": [
            "salary of employees is 20000\n",
            "salary of manager is 21200\n"
          ]
        }
      ]
    },
    {
      "cell_type": "code",
      "source": [
        "#Question14\n",
        "#Create a class Product with attributes name, price, and quantity. Implement a method total_price() that\n",
        "#calculates the total price of the product.\n",
        "class product:\n",
        "  count=1\n",
        "  def __init__(self,name,price,quantity):\n",
        "    self.name=name\n",
        "    self.price=price\n",
        "    self.quantity=quantity\n",
        "  def total_price(self):\n",
        "    return self.price*self.quantity\n",
        "p1=product(\"pen\",10,5)\n",
        "p2=product(\"pencil\",20,10)\n",
        "print(f\"total price of pen is {p1.total_price()}\")\n",
        "print(f\"total price of pencil is {p2.total_price()}\")"
      ],
      "metadata": {
        "colab": {
          "base_uri": "https://localhost:8080/"
        },
        "id": "562xJa9InOj1",
        "outputId": "484bf7b1-8802-4f2b-afa5-0fe93ac0e897"
      },
      "execution_count": 7,
      "outputs": [
        {
          "output_type": "stream",
          "name": "stdout",
          "text": [
            "total price of pen is 50\n",
            "total price of pencil is 200\n"
          ]
        }
      ]
    },
    {
      "cell_type": "code",
      "source": [
        "#Question15\n",
        "#Create a class Animal with an abstract method sound(). Create two derived classes Cow and Sheep that\n",
        "#implement the sound() method.\n",
        "from abc import ABC, abstractmethod\n",
        "class animal(ABC):\n",
        "  @abstractmethod\n",
        "  def sound(self):\n",
        "    pass\n",
        "class cow(animal):\n",
        "  def sound(self):\n",
        "    print(\"cow makes a sound\")\n",
        "class sheep(animal):\n",
        "  def sound(self):\n",
        "    print(\"sheep makes a sound\")\n",
        "c=cow()\n",
        "c.sound()\n",
        "s=sheep()\n",
        "s.sound()"
      ],
      "metadata": {
        "colab": {
          "base_uri": "https://localhost:8080/"
        },
        "id": "sagXcPX8pNNf",
        "outputId": "0fa46a78-6f1b-43d1-b207-3f3c7177c7fa"
      },
      "execution_count": 8,
      "outputs": [
        {
          "output_type": "stream",
          "name": "stdout",
          "text": [
            "cow makes a sound\n",
            "sheep makes a sound\n"
          ]
        }
      ]
    },
    {
      "cell_type": "code",
      "source": [
        "#Question17\n",
        "#Create a class Book with attributes title, author, and year_published. Add a method get_book_info() that\n",
        "#returns a formatted string with the book's details.\n",
        "class book:\n",
        "  def __init__(self,title,author,year_published):\n",
        "    self.title=title\n",
        "    self.author=author\n",
        "    self.year_published=year_published\n",
        "  def get_book_info(self):\n",
        "    return f\"{self.title}, by {self.author}, published in {self.year_published}\"\n",
        "b1=book(\"maze runner\",\"ryan\",2004)\n",
        "b2=book(\"python\",\"hello\",2005)\n",
        "print(b1.get_book_info())\n",
        "print(b2.get_book_info())"
      ],
      "metadata": {
        "colab": {
          "base_uri": "https://localhost:8080/"
        },
        "id": "0BaUasg7qRBw",
        "outputId": "d347daaa-b85a-4026-ff24-48ed54f4e872"
      },
      "execution_count": 9,
      "outputs": [
        {
          "output_type": "stream",
          "name": "stdout",
          "text": [
            "maze runner, by ryan, published in 2004\n",
            "python, by hello, published in 2005\n"
          ]
        }
      ]
    },
    {
      "cell_type": "code",
      "source": [
        "#Question18\n",
        "#Create a class House with attributes address and price. Create a derived class Mansion that adds an\n",
        "#attribute number_of_rooms.\n",
        "class house:\n",
        "  def __init__(self,address,price):\n",
        "    self.address=address\n",
        "    self.price=price\n",
        "  def show(self):\n",
        "    return f\"{self.address},{self.price}\"\n",
        "class manison(house):\n",
        "  def __init__(self,address,price,number_of_rooms):\n",
        "    super().__init__(address,price)\n",
        "    self.number_of_rooms=number_of_rooms\n",
        "  def create(self):\n",
        "    return f\"{self.address},{self.price},{self.number_of_rooms}\"\n",
        "h=house(\"ABC\",120000)\n",
        "print(h.show())\n",
        "m=manison(\"ABC\",120000,4)\n",
        "print(m.create())"
      ],
      "metadata": {
        "colab": {
          "base_uri": "https://localhost:8080/"
        },
        "id": "xck_-Kg8r4o7",
        "outputId": "179627fa-03ca-46c6-bd6f-c7963319790c"
      },
      "execution_count": 13,
      "outputs": [
        {
          "output_type": "stream",
          "name": "stdout",
          "text": [
            "ABC,120000\n",
            "ABC,120000,4\n"
          ]
        }
      ]
    },
    {
      "cell_type": "markdown",
      "source": [
        "OOPS Theory Questions\n",
        "\n",
        "1.What is Object-Oriented Programming (OOP).\n",
        "\n",
        "Ans=OOP is a programming paradigm based on the concept of \"objects,\" which are instances of \"classes.\" It focuses on organizing code using classes, objects, and principles like encapsulation, inheritance, polymorphism, and abstraction.\n",
        "\n",
        "\n",
        "2.What is a class in OOP.\n",
        "\n",
        "Ans=A class is a blueprint for creating objects. It defines a data structure and the behaviors (methods) that the objects created from the class can have.\n",
        "\n",
        "class Car:\n",
        "    def __init__(self, brand):\n",
        "        self.brand = brand\n",
        "\n",
        "3.What is an object in OOP.\n",
        "\n",
        "Ans=An object is an instance of a class. It holds data (attributes) and behaviors (methods) defined by its class.\n",
        "\n",
        "my_car = Car(\"Toyota\")  # my_car is an object\n",
        "\n",
        "4.What is the difference between abstraction and encapsulation.\n",
        "\n",
        "Ans=Abstraction hides complex implementation details and shows only essential features to the user.\n",
        "\n",
        "Encapsulation bundles data and methods within a class and restricts direct access to some components.\n",
        "\n",
        "Example:\n",
        "Abstraction\n",
        "from abc import ABC, abstractmethod\n",
        "\n",
        "class Animal(ABC):\n",
        "    @abstractmethod\n",
        "    def make_sound(self):\n",
        "        pass\n",
        "\n",
        "Encapsulation\n",
        "class Person:\n",
        "    def __init__(self, name):\n",
        "        self.__name = name  # private attribute\n",
        "\n",
        "5.What are dunder methods in Python.\n",
        "\n",
        "Ans=Dunder methods (short for “double underscore”), like __init__, __str__, __len__, etc., are special methods with double underscores used to define behavior for built-in operation.\n",
        "\n",
        "Example:\n",
        "class Book:\n",
        "    def __init__(self, title):\n",
        "        self.title = title\n",
        "\n",
        "    def __str__(self):\n",
        "        return f\"Book: {self.title}\"\n",
        "\n",
        "6.Explain the concept of inheritance in OOP.\n",
        "\n",
        "Ans=Inheritance allows a class (child/subclass) to inherit attributes and methods from another class (parent/superclass), promoting code reuse.\n",
        "\n",
        "Example:\n",
        "class Animal:\n",
        "    def speak(self):\n",
        "        return \"Some sound\"\n",
        "\n",
        "class Dog(Animal):\n",
        "    def speak(self):\n",
        "        return \"Bark\"\n",
        "\n",
        "7.What is polymorphism in OOP.\n",
        "\n",
        "Ans=Polymorphism means the same method or function can behave differently based on the object calling it.\n",
        "\n",
        "Example:\n",
        "for animal in [Dog(), Cat()]:\n",
        "    print(animal.speak())  # Each class defines `speak()` differently\n",
        "\n",
        "8.How is encapsulation achieved in Python.\n",
        "\n",
        "Ans=Public attributes: no underscore (e.g., self.name)\n",
        "\n",
        "Protected attributes: single underscore (e.g., _name)\n",
        "\n",
        "Private attributes: double underscore (e.g., __name)\n",
        "\n",
        "Example:\n",
        "class Account:\n",
        "    def __init__(self, balance):\n",
        "        self.__balance = balance  # private\n",
        "\n",
        "    def get_balance(self):\n",
        "        return self.__balance\n",
        "\n",
        "9.What is a constructor in Python.\n",
        "\n",
        "Ans=A constructor is the __init__ method in Python, automatically called when an object is created to initialize its attributes.\n",
        "\n",
        "Example:\n",
        "class Person:\n",
        "    def __init__(self, name):\n",
        "        self.name = name\n",
        "\n",
        "10.What are class and static methods in Python.\n",
        "\n",
        "Ans=Class methods take cls as the first argument and can access class-level data.\n",
        "\n",
        "Static methods do not access class or instance data.\n",
        "\n",
        "Example:\n",
        "class MyClass:\n",
        "    count = 0\n",
        "\n",
        "    @classmethod\n",
        "    def show_count(cls):\n",
        "        return cls.count\n",
        "\n",
        "    @staticmethod\n",
        "    def greet():\n",
        "        return \"Hello!\"\n",
        "\n",
        "11.What is method overloading in Python.\n",
        "\n",
        "Ans=Python does not support method overloading by default. The last defined method with the same name overrides previous ones. However, you can simulate it using default arguments or *args.\n",
        "\n",
        "Example:\n",
        "class Math:\n",
        "    def add(self, a, b=0):\n",
        "        return a + b\n",
        "\n",
        "12.What is method overriding in OOP.\n",
        "\n",
        "Ans=Method overriding occurs when a subclass provides a specific implementation of a method already defined in its superclass.\n",
        "\n",
        "Example:\n",
        "class Animal:\n",
        "    def speak(self):\n",
        "        return \"Animal sound\"\n",
        "\n",
        "class Cat(Animal):\n",
        "    def speak(self):\n",
        "        return \"Meow\"\n",
        "\n",
        "13.What is a property decorator in Python.\n",
        "\n",
        "Ans=The @property decorator allows you to define a method that can be accessed like an attribute. It's used to encapsulate instance variables and control access via getter, setter, and deleter methods.\n",
        "\n",
        "Example:\n",
        "class Person:\n",
        "    def __init__(self, age):\n",
        "        self._age = age\n",
        "\n",
        "    @property\n",
        "    def age(self):  # getter\n",
        "        return self._age\n",
        "\n",
        "    @age.setter\n",
        "    def age(self, value):  # setter\n",
        "        if value >= 0:\n",
        "            self._age = value\n",
        "\n",
        "14.Why is polymorphism important in OOP.\n",
        "\n",
        "Ans=Polymorphism allows different classes to be treated through the same interface. It improves flexibility and maintainability by enabling objects of different types to respond to the same method call in different ways.\n",
        "\n",
        "Example:\n",
        "class Dog:\n",
        "    def speak(self):\n",
        "        return \"Bark\"\n",
        "\n",
        "class Cat:\n",
        "    def speak(self):\n",
        "        return \"Meow\"\n",
        "\n",
        "def animal_sound(animal):\n",
        "    print(animal.speak())\n",
        "\n",
        "animal_sound(Dog())  # Bark\n",
        "animal_sound(Cat())  # Meow\n",
        "\n",
        "15.What is an abstract class in Python.\n",
        "\n",
        "Ans=An abstract class is a class that cannot be instantiated. It’s used to define a common interface for its subclasses. You define it using the abc module and @abstractmethod decorator.\n",
        "\n",
        "Example:\n",
        "from abc import ABC, abstractmethod\n",
        "\n",
        "class Animal(ABC):\n",
        "    @abstractmethod\n",
        "    def speak(self):\n",
        "        pass\n",
        "\n",
        "16.What are the advantages of OOP.\n",
        "\n",
        "Ans=The advantageds of oops are-:\n",
        "1.Encapsulation-Hides internal state; exposes behavior via methods.\n",
        "\n",
        "2.Inheritance-Reuse and extend code.\n",
        "\n",
        "3.Polymorphism-Flexible code that works with different objects.\n",
        "\n",
        "4.Abstraction-Simplifies complex reality using simple models.\n",
        "\n",
        "5.Modularity-Easier to maintain and understand.\n",
        "\n",
        "\n",
        "17.What is the difference between a class variable and an instance variable.\n",
        "\n",
        "Ans=| Feature      | Class Variable              | Instance Variable         |\n",
        "| ------------ | --------------------------- | ------------------------- |\n",
        "| Scope        | Shared across all instances | Unique to each instance   |\n",
        "| Defined in   | Class body                  | Usually inside `__init__` |\n",
        "| Accessed via | Class name or instance      | Only through instance     |\n",
        "\n",
        "Example:\n",
        "class Example:\n",
        "    class_var = 10  # class variable\n",
        "\n",
        "    def __init__(self):\n",
        "        self.instance_var = 20  # instance variable\n",
        "\n",
        "18.What is multiple inheritance in Python.\n",
        "\n",
        "Ans=Multiple inheritance allows a class to inherit from more than one parent class.\n",
        "\n",
        "Example:\n",
        "class A:\n",
        "    def greet(self): return \"Hello from A\"\n",
        "\n",
        "class B:\n",
        "    def greet(self): return \"Hello from B\"\n",
        "\n",
        "class C(A, B):\n",
        "    pass\n",
        "\n",
        "print(C().greet())  # \"Hello from A\" due to MRO (method resolution order)\n",
        "\n",
        "19.Explain the purpose of ‘’__str__’ and ‘__repr__’ ‘ methods in Python.\n",
        "\n",
        "Ans=| Method     | Purpose                           | Used by            |\n",
        "| ---------- | --------------------------------- | ------------------ |\n",
        "| `__str__`  | User-friendly string (print)      | `print()`, `str()` |\n",
        "| `__repr__` | Developer-friendly string (debug) | `repr()` or shell  |\n",
        "\n",
        "Example:\n",
        "class Person:\n",
        "    def __str__(self):\n",
        "        return \"Person: User View\"\n",
        "\n",
        "    def __repr__(self):\n",
        "        return \"Person(name='John')\"\n",
        "\n",
        "20.What is the significance of the ‘super()’ function in Python.\n",
        "\n",
        "Ans=super() gives access to methods of a parent or sibling class, helping with method resolution in inheritance.\n",
        "\n",
        "Example:\n",
        "class Parent:\n",
        "    def __init__(self):\n",
        "        print(\"Parent init\")\n",
        "\n",
        "class Child(Parent):\n",
        "    def __init__(self):\n",
        "        super().__init__()  # Calls Parent's __init__\n",
        "        print(\"Child init\")\n",
        "\n",
        "21.What is the significance of the __del__ method in Python.\n",
        "\n",
        "Ans=__del__ is the destructor method, called when an object is about to be destroyed. It's used to release resources (like closing files or network connections), but use it sparingly due to unpredictable garbage collection.\n",
        "\n",
        "Example:\n",
        "class FileHandler:\n",
        "    def __del__(self):\n",
        "        print(\"FileHandler is being destroyed\")\n",
        "\n",
        "22.What is the difference between @staticmethod and @classmethod in Python.\n",
        "\n",
        "Ans=| Decorator       | Access to `self` | Access to `cls` | Use Case                                |\n",
        "| --------------- | ---------------- | --------------- | --------------------------------------- |\n",
        "| `@staticmethod` | No               | No              | Utility functions                       |\n",
        "| `@classmethod`  | No               | Yes             | Factory methods or altering class state |\n",
        "\n",
        "Example:\n",
        "class MyClass:\n",
        "    @staticmethod\n",
        "    def greet():\n",
        "        return \"Hello\"\n",
        "\n",
        "    @classmethod\n",
        "    def create(cls):\n",
        "        return cls()\n",
        "\n",
        "23.How does polymorphism work in Python with inheritance.\n",
        "\n",
        "Ans=Polymorphism in Python allows you to call the same method on different classes and get different behaviors, especially when using inheritance.\n",
        "\n",
        "When a child class overrides a method of its parent class, polymorphism enables the correct version to be called based on the object’s class type—even if you're referencing it through a base class.\n",
        "\n",
        "Example:\n",
        "class Animal:\n",
        "    def speak(self):\n",
        "        return \"Some sound\"\n",
        "\n",
        "class Dog(Animal):\n",
        "    def speak(self):\n",
        "        return \"Bark\"\n",
        "\n",
        "class Cat(Animal):\n",
        "    def speak(self):\n",
        "        return \"Meow\"\n",
        "\n",
        "def make_animal_speak(animal: Animal):\n",
        "    print(animal.speak())\n",
        "\n",
        "make_animal_speak(Dog())  # Output: Bark\n",
        "make_animal_speak(Cat())  # Output: Meow\n",
        "\n",
        "24.What is method chaining in Python OOP.\n",
        "\n",
        "Ans=Method chaining allows you to call multiple methods on the same object in a single line. This works by returning self from each method so that the next method can be called on the same object.\n",
        "\n",
        "Example:\n",
        "class Builder:\n",
        "    def __init__(self):\n",
        "        self.result = \"\"\n",
        "\n",
        "    def add_hello(self):\n",
        "        self.result += \"Hello \"\n",
        "        return self  # returning self allows chaining\n",
        "\n",
        "    def add_name(self, name):\n",
        "        self.result += name\n",
        "        return self\n",
        "\n",
        "    def build(self):\n",
        "        return self.result\n",
        "\n",
        "msg = Builder().add_hello().add_name(\"Alice\").build()\n",
        "print(msg)  # Output: Hello Alice\n",
        "\n",
        "25.What is the purpose of the __call__ method in Python?\n",
        "\n",
        "Ans=The __call__ method makes an instance of a class behave like a function. If you define __call__ in a class, you can call the object itself, not just its methods.\n",
        "\n",
        "Example:\n",
        "class Multiplier:\n",
        "    def __init__(self, factor):\n",
        "        self.factor = factor\n",
        "\n",
        "    def __call__(self, number):\n",
        "        return number * self.factor\n",
        "\n",
        "double = Multiplier(2)\n",
        "print(double(5))  # Output: 10\n"
      ],
      "metadata": {
        "id": "U-37srd6wRHa"
      }
    }
  ]
}